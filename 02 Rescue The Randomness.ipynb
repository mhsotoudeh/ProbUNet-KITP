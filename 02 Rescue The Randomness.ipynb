{
 "cells": [
  {
   "cell_type": "markdown",
   "metadata": {},
   "source": [
    "Run the following cells to prepare your working environment:"
   ]
  },
  {
   "cell_type": "code",
   "execution_count": 2,
   "metadata": {},
   "outputs": [],
   "source": [
    "%cd /content\n",
    "!git clone https://github.com/mhsotoudeh/ProbUNet-Tutorial.git\n",
    "# !export PYTHONPATH=\"${PYTHONPATH}:$PWD/ProbUNet-Tutorial\"\n",
    "%cd /content/ProbUNet-Tutorial"
   ]
  },
  {
   "cell_type": "code",
   "execution_count": null,
   "metadata": {},
   "outputs": [],
   "source": [
    "!pip install -r requirements.txt"
   ]
  },
  {
   "cell_type": "code",
   "execution_count": 3,
   "metadata": {},
   "outputs": [],
   "source": [
    "%load_ext autoreload\n",
    "%autoreload 2"
   ]
  },
  {
   "cell_type": "code",
   "execution_count": 4,
   "metadata": {},
   "outputs": [],
   "source": [
    "from model import *\n",
    "from train import *\n",
    "\n",
    "from dotmap import DotMap\n",
    "import matplotlib.pyplot as plt\n",
    "from tqdm.notebook import tqdm_notebook\n",
    "\n",
    "from torch.utils.tensorboard import SummaryWriter"
   ]
  },
  {
   "cell_type": "code",
   "execution_count": 5,
   "metadata": {},
   "outputs": [
    {
     "name": "stdout",
     "output_type": "stream",
     "text": [
      "Device is cpu\n"
     ]
    }
   ],
   "source": [
    "device = 'cuda' if torch.cuda.is_available() else 'cpu'\n",
    "print(\"Device is {}\".format(device))"
   ]
  },
  {
   "cell_type": "markdown",
   "metadata": {},
   "source": [
    "## Part 2: Rescue the Randomness (Loss Functions)"
   ]
  },
  {
   "cell_type": "markdown",
   "metadata": {},
   "source": [
    "### Data"
   ]
  },
  {
   "cell_type": "code",
   "execution_count": 6,
   "metadata": {},
   "outputs": [],
   "source": [
    "n = 32                        # Dataset Size\n",
    "sigma = 0.1                   # Noise Level"
   ]
  },
  {
   "cell_type": "code",
   "execution_count": 7,
   "metadata": {},
   "outputs": [],
   "source": [
    "a = torch.arange(n, device=device)\n",
    "\n",
    "inputs = torch.zeros(n,n, device=device)\n",
    "inputs[torch.arange(n), a] = 1\n",
    "\n",
    "raw_truths = torch.flip(inputs, dims=(1,))\n",
    "\n",
    "inputs, raw_truths = inputs.unsqueeze(dim=1), raw_truths.unsqueeze(dim=1)"
   ]
  },
  {
   "cell_type": "code",
   "execution_count": 8,
   "metadata": {},
   "outputs": [],
   "source": [
    "noise = torch.randn(n,1,n, device=device)*sigma\n",
    "truths = raw_truths + noise"
   ]
  },
  {
   "cell_type": "code",
   "execution_count": 9,
   "metadata": {},
   "outputs": [
    {
     "data": {
      "image/png": "[encoded data removed]",
      "text/plain": [
       "<Figure size 1296x432 with 3 Axes>"
      ]
     },
     "metadata": {
      "needs_background": "light"
     },
     "output_type": "display_data"
    }
   ],
   "source": [
    "fig, axs = plt.subplots(1, 3, figsize=(18,6))\n",
    "\n",
    "fig.suptitle('Training Dataset (each row is a training example)')\n",
    "\n",
    "axs[0].set_title('Input')\n",
    "axs[1].set_title('Raw Output (without noise)')\n",
    "axs[2].set_title('Output (with noise generated on the fly)')\n",
    "\n",
    "axs[0].imshow(inputs.squeeze().cpu().numpy())\n",
    "axs[1].imshow(raw_truths.squeeze().cpu().numpy())\n",
    "axs[2].imshow(truths.squeeze().cpu().numpy())\n",
    "\n",
    "[axi.set_axis_off() for axi in axs.ravel()]\n",
    "\n",
    "plt.show()"
   ]
  },
  {
   "cell_type": "code",
   "execution_count": 10,
   "metadata": {},
   "outputs": [
    {
     "data": {
      "text/plain": [
       "(torch.Size([32, 1, 32]), torch.Size([32, 1, 32]), torch.Size([32, 1, 32]))"
      ]
     },
     "execution_count": 10,
     "metadata": {},
     "output_type": "execute_result"
    }
   ],
   "source": [
    "inputs.shape, raw_truths.shape, truths.shape"
   ]
  },
  {
   "cell_type": "markdown",
   "metadata": {},
   "source": [
    "### Model"
   ]
  },
  {
   "cell_type": "code",
   "execution_count": 11,
   "metadata": {},
   "outputs": [],
   "source": [
    "args = DotMap()\n",
    "\n",
    "# Data\n",
    "args.pixels = n\n",
    "\n",
    "# Model\n",
    "args.in_ch, args.out_ch = 1, 1\n",
    "args.intermediate_ch = [4, 8, 8, 16, 16]\n",
    "args.kernel_size = [3, 3, 3, 3, 3]\n",
    "args.scale_depth, args.dilation = [1, 1, 1, 1, 1], [1, 1, 1, 1, 1]\n",
    "args.padding_mode = 'zeros' \n",
    "\n",
    "args.latent_num = 5\n",
    "args.latent_chs = [1, 1, 1, 1, 1]\n",
    "args.latent_locks = [False, False, False, False, False]\n",
    "\n",
    "\n",
    "# Loss\n",
    "args.rec_type = 'mse'\n",
    "args.loss_type = 'elbo'\n",
    "args.beta = 1.0\n",
    "args.beta_asc_steps = None\n",
    "\n",
    "\n",
    "# Training\n",
    "args.epochs = 2\n",
    "args.optimizer = 'adamax'\n",
    "args.wd = 1e-5\n",
    "args.lr = 1e-3\n",
    "args.scheduler_type = 'cons'"
   ]
  },
  {
   "cell_type": "code",
   "execution_count": 12,
   "metadata": {},
   "outputs": [],
   "source": [
    "# Initialize the Model\n",
    "extra_out_ch = 1 if args.rec_type == 'loglikelihood' and args.ll_std_sample_num == 0 else 0\n",
    "\n",
    "model = HPUNet( in_ch=args.in_ch, out_ch=args.out_ch+extra_out_ch, chs=args.intermediate_ch,\n",
    "                latent_num=args.latent_num, latent_channels=args.latent_chs, latent_locks=args.latent_locks,\n",
    "                scale_depth=args.scale_depth, kernel_size=args.kernel_size, dilation=args.dilation,\n",
    "                padding_mode=args.padding_mode, conv_dim=1 )\n",
    "\n",
    "\n",
    "args.trainable_params = sum(p.numel() for p in model.parameters() if p.requires_grad)\n",
    "\n",
    "\n",
    "model.to(device)\n",
    "\n",
    "\n",
    "# Set Loss Function\n",
    "\n",
    "## Reconstruction Loss\n",
    "if args.rec_type.lower() == 'mse':\n",
    "    reconstruction_loss = MSELossWrapper()\n",
    "\n",
    "elif args.rec_type.lower() == 'loglikelihood':\n",
    "    reconstruction_loss = LogLikelihoodLoss()\n",
    "\n",
    "else:\n",
    "    print('Invalid reconstruction loss type, exiting...')\n",
    "    exit()\n",
    "\n",
    "\n",
    "## Total Loss\n",
    "if args.loss_type.lower() == 'elbo':\n",
    "    if args.beta_asc_steps is None:\n",
    "        beta_scheduler = BetaConstant(args.beta)\n",
    "    else:\n",
    "        beta_scheduler = BetaLinearScheduler(ascending_steps=args.beta_asc_steps, constant_steps=args.beta_cons_steps, max_beta=args.beta, saturation_step=args.beta_saturation_step)\n",
    "    criterion = ELBOLoss(reconstruction_loss=reconstruction_loss, beta=beta_scheduler).to(device)\n",
    "\n",
    "elif args.loss_type.lower() == 'geco':\n",
    "    kappa = args.kappa\n",
    "    if args.kappa_px is True:\n",
    "        kappa *= n\n",
    "    criterion = GECOLoss(reconstruction_loss=reconstruction_loss, kappa=kappa, decay=args.decay, update_rate=args.update_rate, device=device).to(device)\n",
    "\n",
    "else:\n",
    "    print('Invalid loss type, exiting...')\n",
    "    exit()\n",
    "\n",
    "\n",
    "# Set Optimizer\n",
    "if args.optimizer == 'adamax':\n",
    "    optimizer = optim.Adamax(model.parameters(), lr=args.lr, weight_decay=args.wd)\n",
    "\n",
    "elif args.optimizer == 'adam':\n",
    "    optimizer = optim.Adam(model.parameters(), lr=args.lr, weight_decay=args.wd)\n",
    "\n",
    "elif args.optimizer == 'adamw':\n",
    "    optimizer = optim.AdamW(model.parameters(), lr=args.lr, weight_decay=args.wd)\n",
    "\n",
    "else:\n",
    "    print('Optimizer not known, exiting...')\n",
    "    exit()\n",
    "\n",
    "\n",
    "# Set LR Scheduler\n",
    "if args.scheduler_type == 'cons':\n",
    "    lr_scheduler = optim.lr_scheduler.StepLR(optimizer, step_size=args.epochs)\n",
    "\n",
    "elif args.scheduler_type == 'step':\n",
    "    lr_scheduler = optim.lr_scheduler.StepLR(optimizer, step_size=args.scheduler_step_size, gamma=args.scheduler_gamma)\n",
    "\n",
    "elif args.scheduler_type == 'milestones':\n",
    "    lr_scheduler = optim.lr_scheduler.MultiStepLR(optimizer, milestones=args.scheduler_milestones, gamma=args.scheduler_gamma)"
   ]
  },
  {
   "cell_type": "markdown",
   "metadata": {},
   "source": [
    "### Training"
   ]
  },
  {
   "cell_type": "code",
   "execution_count": 13,
   "metadata": {},
   "outputs": [],
   "source": [
    "# Generate Stamp\n",
    "stamp = 'beta = 1'\n",
    "\n",
    "# Initialize SummaryWriter (for tensorboard)\n",
    "# writer = SummaryWriter('runs/part2/{}/tb'.format(stamp))"
   ]
  },
  {
   "cell_type": "code",
   "execution_count": 14,
   "metadata": {},
   "outputs": [],
   "source": [
    "def record_history(idx, loss_dict, type='train'):\n",
    "    prefix = 'Minibatch Training ' if type == 'train' else 'Mean Validation '\n",
    "\n",
    "    loss_per_pixel = loss_dict['loss'].item() / args.pixels\n",
    "    reconstruction_per_pixel = loss_dict['reconstruction_term'].item() / args.pixels\n",
    "    kl_term_per_pixel = loss_dict['kl_term'].item() / args.pixels\n",
    "    kl_per_pixel = [ loss_dict['kls'][v].item() / args.pixels for v in range(args.latent_num) ]\n",
    "\n",
    "    # Total Loss\n",
    "    _dict = {   'total': loss_per_pixel,\n",
    "                'kl term': kl_term_per_pixel, \n",
    "                'reconstruction': reconstruction_per_pixel  }\n",
    "    writer.add_scalars(prefix + 'Loss Curve', _dict, idx)\n",
    "    \n",
    "    # Reconstruction Term Decomposition\n",
    "    if args.rec_type.lower() == 'loglikelihood':\n",
    "        _dict = {   'reconstruction term mse': loss_dict['recterm_mse'].item() / args.pixels,\n",
    "                    'reconstruction term std': loss_dict['recterm_std'].item() / args.pixels   }\n",
    "        writer.add_scalars(prefix + 'Loss Curve (Reconstruction)', _dict, idx)\n",
    "\n",
    "    # KL Term Decomposition\n",
    "    _dict = { 'sum': sum(kl_per_pixel) }\n",
    "    _dict.update( { 'scale {}'.format(v): kl_per_pixel[v] for v in range(args.latent_num) } )\n",
    "    writer.add_scalars(prefix + 'Loss Curve (K-L)', _dict, idx)\n",
    "\n",
    "    # Coefficients\n",
    "    if type == 'train':\n",
    "        if args.loss_type.lower() == 'elbo':\n",
    "            writer.add_scalar('Beta', criterion.beta_scheduler.beta, idx)\n",
    "        elif args.loss_type.lower() == 'geco':\n",
    "            writer.add_scalar('Lagrange Multiplier', criterion.log_inv_function(criterion.log_lamda).item(), idx)"
   ]
  },
  {
   "cell_type": "code",
   "execution_count": 15,
   "metadata": {},
   "outputs": [
    {
     "data": {
      "application/vnd.jupyter.widget-view+json": {
       "model_id": "42d334c1e10d4dd79c6ed4eaecd8a488",
       "version_major": 2,
       "version_minor": 0
      },
      "text/plain": [
       "  0%|          | 0/2 [00:00<?, ?it/s]"
      ]
     },
     "metadata": {},
     "output_type": "display_data"
    },
    {
     "name": "stdout",
     "output_type": "stream",
     "text": [
      "alive\n",
      "x: torch.Size([32, 32])\n",
      "y: (1, 2)\n",
      "alive\n",
      "x: torch.Size([32, 32])\n",
      "y: (1, 2)\n"
     ]
    }
   ],
   "source": [
    "model.train()\n",
    "criterion.train()\n",
    "\n",
    "for e in tqdm_notebook(range(args.epochs)):\n",
    "    # Initialization\n",
    "    \n",
    "    model.zero_grad()\n",
    "    \n",
    "    # Train One Step\n",
    "    \n",
    "    ## Generate Truths\n",
    "    noise = torch.randn(n,1,n, device=device)*sigma\n",
    "    truths = raw_truths + noise\n",
    "    \n",
    "    ## Get Predictions and Prepare for Loss Calculation\n",
    "    if args.rec_type.lower() == 'mse':\n",
    "        preds, infodicts = model(inputs, truths)\n",
    "        preds, infodict = preds[:,0], infodicts[0]\n",
    "        logstd2 = None\n",
    "\n",
    "    elif args.rec_type.lower() == 'loglikelihood':\n",
    "        if args.ll_std_sample_num == 0:\n",
    "            preds, infodicts = model(inputs, truths, first_channel_only=False)\n",
    "            preds, logstd2, infodict = preds[:,0,0], preds[:,0,1], infodicts[0]\n",
    "\n",
    "        elif args.ll_std_sample_num > 0:\n",
    "            preds, infodicts = model(inputs, truths, times=args.ll_std_sample_num)\n",
    "            # with torch.no_grad():\n",
    "            logstd2 = torch.log( torch.var(preds, dim=1, unbiased=True) )  # or preds.detach()\n",
    "            k = randrange(args.ll_std_sample_num)\n",
    "            preds, infodict = preds[:,k], infodicts[k]\n",
    "\n",
    "    truths = truths.squeeze(dim=1)\n",
    "    \n",
    "    \n",
    "    ## Calculate Loss\n",
    "    loss = criterion(preds, truths, kls=infodict['kls'], logstd2=logstd2, lr=lr_scheduler.get_last_lr()[0])\n",
    "\n",
    "\n",
    "    ## Backpropagate\n",
    "    loss.backward()             # Calculate Gradients\n",
    "    optimizer.step()            # Update Weights\n",
    "\n",
    "\n",
    "    ## Step Beta Scheduler\n",
    "    if args.loss_type.lower() == 'elbo':\n",
    "        criterion.beta_scheduler.step()\n",
    "\n",
    "\n",
    "    # Record Train History\n",
    "    loss_dict = criterion.last_loss.copy()\n",
    "    loss_dict.update( { 'kls': infodict['kls'] } )\n",
    "\n",
    "    if args.rec_type.lower() == 'loglikelihood':\n",
    "        if isinstance(criterion.reconstruction_loss, TopkMaskedLoss):\n",
    "            ll_loss_internal = criterion.reconstruction_loss.loss.last_loss\n",
    "        else:\n",
    "            ll_loss_internal = criterion.reconstruction_loss.last_loss\n",
    "\n",
    "        loss_dict.update( { 'recterm_mse': ll_loss_internal['expanded_mse_term'].sum(dim=(1,2)).mean(),\n",
    "                            'recterm_std': ll_loss_internal['expanded_std_term'].sum(dim=(1,2)).mean() } )\n",
    "\n",
    "    # record_history(e, loss_dict)"
   ]
  },
  {
   "cell_type": "code",
   "execution_count": null,
   "metadata": {},
   "outputs": [],
   "source": []
  },
  {
   "cell_type": "code",
   "execution_count": null,
   "metadata": {},
   "outputs": [],
   "source": []
  },
  {
   "cell_type": "code",
   "execution_count": null,
   "metadata": {},
   "outputs": [],
   "source": []
  },
  {
   "cell_type": "code",
   "execution_count": null,
   "metadata": {},
   "outputs": [],
   "source": []
  }
 ],
 "metadata": {
  "kernelspec": {
   "display_name": "Python 3",
   "language": "python",
   "name": "python3"
  },
  "language_info": {
   "codemirror_mode": {
    "name": "ipython",
    "version": 3
   },
   "file_extension": ".py",
   "mimetype": "text/x-python",
   "name": "python",
   "nbconvert_exporter": "python",
   "pygments_lexer": "ipython3",
   "version": "3.8.10"
  },
  "vscode": {
   "interpreter": {
    "hash": "916dbcbb3f70747c44a77c7bcd40155683ae19c65e1c03b4aa3499c5328201f1"
   }
  }
 },
 "nbformat": 4,
 "nbformat_minor": 4
}
