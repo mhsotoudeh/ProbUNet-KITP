{
 "cells": [
  {
   "cell_type": "markdown",
   "metadata": {
    "id": "YscaZJH5SNa7"
   },
   "source": [
    "Run the following cells to prepare your working environment:"
   ]
  },
  {
   "cell_type": "code",
   "execution_count": 1,
   "metadata": {
    "colab": {
     "base_uri": "https://localhost:8080/"
    },
    "id": "qSt20IMISNa-",
    "outputId": "d3cdeaaa-e605-4f8c-9640-3ed9989b8046"
   },
   "outputs": [
    {
     "name": "stdout",
     "output_type": "stream",
     "text": [
      "/content\n",
      "Cloning into 'ProbUNet-Tutorial'...\n",
      "remote: Enumerating objects: 58, done.\u001b[K\n",
      "remote: Counting objects: 100% (58/58), done.\u001b[K\n",
      "remote: Compressing objects: 100% (42/42), done.\u001b[K\n",
      "remote: Total 58 (delta 21), reused 40 (delta 13), pack-reused 0\u001b[K\n",
      "Unpacking objects: 100% (58/58), 3.83 MiB | 2.85 MiB/s, done.\n",
      "/content/ProbUNet-Tutorial\n"
     ]
    }
   ],
   "source": [
    "%cd /content\n",
    "!git clone https://github.com/mhsotoudeh/ProbUNet-Tutorial.git\n",
    "# !export PYTHONPATH=\"${PYTHONPATH}:$PWD/ProbUNet-Tutorial\"\n",
    "%cd /content/ProbUNet-Tutorial"
   ]
  },
  {
   "cell_type": "code",
   "execution_count": 1,
   "metadata": {
    "colab": {
     "base_uri": "https://localhost:8080/"
    },
    "id": "XPIppqRESNbA",
    "outputId": "01927ed7-c75d-420c-d3f6-42117e5bc01b"
   },
   "outputs": [
    {
     "name": "stdout",
     "output_type": "stream",
     "text": [
      "Ignoring pip: markers 'python_version < \"3\"' don't match your environment\n",
      "Looking in links: /cvmfs/soft.computecanada.ca/custom/python/wheelhouse/gentoo/avx512, /cvmfs/soft.computecanada.ca/custom/python/wheelhouse/gentoo/avx2, /cvmfs/soft.computecanada.ca/custom/python/wheelhouse/gentoo/generic, /cvmfs/soft.computecanada.ca/custom/python/wheelhouse/generic\n",
      "\u001b[33mWARNING: Retrying (Retry(total=4, connect=None, read=None, redirect=None, status=None)) after connection broken by 'NewConnectionError('<pip._vendor.urllib3.connection.VerifiedHTTPSConnection object at 0x2adabc04d520>: Failed to establish a new connection: [Errno 101] Network is unreachable')': /simple/dotmap/\u001b[0m\n",
      "\u001b[33mWARNING: Retrying (Retry(total=3, connect=None, read=None, redirect=None, status=None)) after connection broken by 'NewConnectionError('<pip._vendor.urllib3.connection.VerifiedHTTPSConnection object at 0x2adabc04d6d0>: Failed to establish a new connection: [Errno 101] Network is unreachable')': /simple/dotmap/\u001b[0m\n",
      "^C\n",
      "\u001b[31mERROR: Operation cancelled by user\u001b[0m\n"
     ]
    }
   ],
   "source": [
    "!pip install -r requirements.txt"
   ]
  },
  {
   "cell_type": "code",
   "execution_count": 2,
   "metadata": {
    "id": "lILRz9YpSNbA"
   },
   "outputs": [],
   "source": [
    "%load_ext autoreload\n",
    "%autoreload 2\n",
    "\n",
    "%load_ext tensorboard"
   ]
  },
  {
   "cell_type": "code",
   "execution_count": 20,
   "metadata": {
    "id": "W8dT8wgqTrfZ"
   },
   "outputs": [],
   "source": [
    "from data import *\n",
    "from model import *\n",
    "\n",
    "import matplotlib as mpl\n",
    "import matplotlib.pyplot as plt\n",
    "from tqdm.notebook import tqdm_notebook\n",
    "\n",
    "from mpl_toolkits.axes_grid1 import make_axes_locatable\n",
    "import numpy as np\n",
    "import torch\n",
    "from torch.utils.data import DataLoader\n",
    "\n",
    "import json"
   ]
  },
  {
   "cell_type": "code",
   "execution_count": 4,
   "metadata": {
    "colab": {
     "base_uri": "https://localhost:8080/"
    },
    "id": "yqb91VMgTri-",
    "outputId": "334afd77-6af7-4dfe-fe3d-900afcb73fd7"
   },
   "outputs": [
    {
     "name": "stdout",
     "output_type": "stream",
     "text": [
      "Device is cuda\n"
     ]
    }
   ],
   "source": [
    "device = 'cuda' if torch.cuda.is_available() else 'cpu'\n",
    "print(\"Device is {}\".format(device))"
   ]
  },
  {
   "cell_type": "markdown",
   "metadata": {
    "id": "7TbkjgIQSNbA",
    "tags": []
   },
   "source": [
    "## Part 1: Using Hierarchical Probabilistic U-Net for Source Reconstruction"
   ]
  },
  {
   "cell_type": "markdown",
   "metadata": {},
   "source": [
    "### Train the Model"
   ]
  },
  {
   "cell_type": "code",
   "execution_count": null,
   "metadata": {
    "id": "2MDmgTHIT_S8"
   },
   "outputs": [],
   "source": [
    "!./run.sh"
   ]
  },
  {
   "cell_type": "code",
   "execution_count": null,
   "metadata": {
    "id": "dPIsY-DCT_Vi"
   },
   "outputs": [],
   "source": []
  },
  {
   "cell_type": "code",
   "execution_count": null,
   "metadata": {
    "id": "FLS_UG15T_X7"
   },
   "outputs": [],
   "source": []
  },
  {
   "cell_type": "markdown",
   "metadata": {
    "id": "m59TEkHzT__5",
    "tags": []
   },
   "source": [
    "### Tensorboard Session"
   ]
  },
  {
   "cell_type": "code",
   "execution_count": 50,
   "metadata": {
    "id": "qY8H4eQUT_ac"
   },
   "outputs": [],
   "source": [
    "# %tensorboard --logdir runs/part1"
   ]
  },
  {
   "cell_type": "code",
   "execution_count": null,
   "metadata": {},
   "outputs": [],
   "source": []
  },
  {
   "cell_type": "code",
   "execution_count": null,
   "metadata": {},
   "outputs": [],
   "source": []
  },
  {
   "cell_type": "code",
   "execution_count": null,
   "metadata": {},
   "outputs": [],
   "source": []
  },
  {
   "cell_type": "code",
   "execution_count": null,
   "metadata": {},
   "outputs": [],
   "source": []
  },
  {
   "cell_type": "markdown",
   "metadata": {},
   "source": [
    "### Visualize Samples"
   ]
  },
  {
   "cell_type": "code",
   "execution_count": 44,
   "metadata": {
    "id": "_E0PrllgT_d0"
   },
   "outputs": [
    {
     "name": "stdout",
     "output_type": "stream",
     "text": [
      "Device is cuda\n"
     ]
    }
   ],
   "source": [
    "mpl.rc('image', cmap='hot')\n",
    "\n",
    "np.random.seed(0)\n",
    "torch.manual_seed(0)\n",
    "\n",
    "bs = 16\n",
    "k = 100  # Num of Predictions per Input\n",
    "\n",
    "# Choose Model\n",
    "model_dir = 'runs/part1'\n",
    "model_stamp = '0216-1834_bg_815318_lensing_64_32-32-64-128-128-128'\n",
    "model_suffix = '160'\n",
    "\n",
    "# Choose Data File\n",
    "data_dir = 'utils/flip/32768-12288-2899'\n",
    "dataset_name = '64_test'\n",
    "\n",
    "# Set Device\n",
    "device = torch.device('cuda' if torch.cuda.is_available() else 'cpu')\n",
    "print(\"Device is {}\".format(device))"
   ]
  },
  {
   "cell_type": "code",
   "execution_count": 45,
   "metadata": {},
   "outputs": [],
   "source": [
    "# Load Model & Loss\n",
    "model = torch.load('{}/{}/model{}.pth'.format(model_dir, model_stamp, model_suffix), map_location=torch.device(device))\n",
    "model.eval()\n",
    "\n",
    "criterion = torch.load('{}/{}/loss{}.pth'.format(model_dir, model_stamp, model_suffix), map_location=torch.device(device))\n",
    "criterion.eval()\n",
    "\n",
    "\n",
    "# Load Args\n",
    "with open('{}/{}/args.json'.format(model_dir, model_stamp), 'r') as f:\n",
    "    args = json.load(f)\n",
    "\n",
    "\n",
    "# Load Data\n",
    "test_data, transdict = prepare_data('{}/{}.npy'.format(data_dir, dataset_name), normalization=None)\n",
    "test_loader = DataLoader(test_data, batch_size=bs, shuffle=False)"
   ]
  },
  {
   "cell_type": "code",
   "execution_count": 46,
   "metadata": {},
   "outputs": [],
   "source": [
    "data_iterator = iter(test_loader)\n",
    "\n",
    "observations, truths = next(data_iterator)\n",
    "observations, truths = observations.to(device), truths.to(device)\n",
    "\n",
    "with torch.no_grad():\n",
    "    preds, infodicts = model(observations, truths, times=k, insert_from_postnet=False)"
   ]
  },
  {
   "cell_type": "code",
   "execution_count": 47,
   "metadata": {},
   "outputs": [
    {
     "data": {
      "text/plain": [
       "(torch.Size([16, 1, 64, 64]),\n",
       " torch.Size([16, 1, 64, 64]),\n",
       " torch.Size([16, 100, 64, 64]))"
      ]
     },
     "execution_count": 47,
     "metadata": {},
     "output_type": "execute_result"
    }
   ],
   "source": [
    "observations.shape, truths.shape, preds.shape"
   ]
  },
  {
   "cell_type": "code",
   "execution_count": 49,
   "metadata": {
    "id": "ccj6WzbmSNbB"
   },
   "outputs": [
    {
     "data": {
      "image/png": "[encoded data removed]",
      "text/plain": [
       "<Figure size 1800x360 with 10 Axes>"
      ]
     },
     "metadata": {
      "needs_background": "light"
     },
     "output_type": "display_data"
    }
   ],
   "source": [
    "idx = 12\n",
    "pr = 65\n",
    "\n",
    "fig, axs = plt.subplots(1, 5, figsize=(25,5))\n",
    "\n",
    "# fig.suptitle('Training Dataset (each row is a training example)', size=14)\n",
    "axs[0].set_title('Obervation')\n",
    "axs[1].set_title('Ground Truth')\n",
    "axs[2].set_title('Prediction {}'.format(pr+1))\n",
    "axs[3].set_title('Mean')\n",
    "axs[4].set_title('STD')\n",
    "\n",
    "im0 = axs[0].imshow(observations[idx].squeeze().cpu().numpy())\n",
    "im1 = axs[1].imshow(truths[idx].squeeze().cpu().numpy())\n",
    "im2 = axs[2].imshow(preds[idx][pr].cpu().numpy())\n",
    "im3 = axs[3].imshow(preds[idx].mean(dim=0).cpu().numpy())\n",
    "im4 = axs[4].imshow(preds[idx].std(dim=0).cpu().numpy())\n",
    "\n",
    "imlist = [im0, im1, im2, im3, im4]\n",
    "for i, axi in enumerate(axs.ravel()):\n",
    "    axi.set_axis_off()\n",
    "\n",
    "    divider = make_axes_locatable(axi)\n",
    "    cax = divider.append_axes('right', size='5%', pad=0.05)\n",
    "    fig.colorbar(imlist[i], cax=cax, orientation='vertical')\n",
    "\n",
    "    imlist.append(cax)\n",
    "\n",
    "plt.show()"
   ]
  },
  {
   "cell_type": "code",
   "execution_count": null,
   "metadata": {
    "id": "Fk3BFP90SNbD"
   },
   "outputs": [],
   "source": []
  },
  {
   "cell_type": "code",
   "execution_count": null,
   "metadata": {},
   "outputs": [],
   "source": []
  },
  {
   "cell_type": "code",
   "execution_count": null,
   "metadata": {},
   "outputs": [],
   "source": []
  },
  {
   "cell_type": "code",
   "execution_count": null,
   "metadata": {},
   "outputs": [],
   "source": []
  },
  {
   "cell_type": "code",
   "execution_count": null,
   "metadata": {},
   "outputs": [],
   "source": []
  },
  {
   "cell_type": "code",
   "execution_count": null,
   "metadata": {},
   "outputs": [],
   "source": []
  }
 ],
 "metadata": {
  "colab": {
   "provenance": []
  },
  "kernelspec": {
   "display_name": "ProbUNet-Tutorial Kernel",
   "language": "python",
   "name": "probunet-tutorial"
  },
  "language_info": {
   "codemirror_mode": {
    "name": "ipython",
    "version": 3
   },
   "file_extension": ".py",
   "mimetype": "text/x-python",
   "name": "python",
   "nbconvert_exporter": "python",
   "pygments_lexer": "ipython3",
   "version": "3.8.10"
  },
  "vscode": {
   "interpreter": {
    "hash": "542747cc2be5538a1f88007e17e0e28d6a3152d700f3cfeb87b0d7bb983173ce"
   }
  }
 },
 "nbformat": 4,
 "nbformat_minor": 4
}
